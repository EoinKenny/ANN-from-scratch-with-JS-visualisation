{
 "cells": [
  {
   "cell_type": "markdown",
   "metadata": {},
   "source": [
    "#  Code Neural Network From Scratch"
   ]
  },
  {
   "cell_type": "code",
   "execution_count": 1,
   "metadata": {
    "collapsed": true
   },
   "outputs": [],
   "source": [
    "# Only dependancy will be Numpy\n",
    "import numpy as np\n",
    "# Just for displaying images\n",
    "from IPython.core.display import Image\n",
    "\n",
    "# For displaying multiple variables in one cell\n",
    "from IPython.core.interactiveshell import InteractiveShell\n",
    "InteractiveShell.ast_node_interactivity = \"all\""
   ]
  },
  {
   "cell_type": "markdown",
   "metadata": {},
   "source": [
    "![Image of Neural Net](https://s3-ap-south-1.amazonaws.com/av-blog-media/wp-content/uploads/2017/05/29021937/635965173527052708-540999202_wallpaper-2870969.jpg)"
   ]
  },
  {
   "cell_type": "markdown",
   "metadata": {},
   "source": [
    "## First Define the Activation Function"
   ]
  },
  {
   "cell_type": "markdown",
   "metadata": {},
   "source": [
    "### Activation Function --> Sigmoid"
   ]
  },
  {
   "cell_type": "markdown",
   "metadata": {},
   "source": [
    "![Image of Yaktocat](https://cdn-images-1.medium.com/max/1200/1*sK6hjHszCwTE8GqtKNe1Yg.png)"
   ]
  },
  {
   "cell_type": "markdown",
   "metadata": {},
   "source": [
    "<h1><center>$ { f(x)=\\frac{1}{1+e^{-x}} } $</center></h1>"
   ]
  },
  {
   "cell_type": "code",
   "execution_count": 2,
   "metadata": {
    "collapsed": true
   },
   "outputs": [],
   "source": [
    "def sigmoid(x):\n",
    "    return 1 / (1 + np.exp(-x))"
   ]
  },
  {
   "cell_type": "markdown",
   "metadata": {},
   "source": [
    "![Derivitive of Sigmoid](https://i2.wp.com/kawahara.ca/wp-content/uploads/derivative_sigmoid.png?fit=430%2C339&ssl=1)"
   ]
  },
  {
   "cell_type": "markdown",
   "metadata": {},
   "source": [
    "<h1><center>$ { f'(x)= f(x) (1 - f(x)) } $</center></h1>"
   ]
  },
  {
   "cell_type": "code",
   "execution_count": 3,
   "metadata": {
    "collapsed": true
   },
   "outputs": [],
   "source": [
    "def sigmoid_deriv(x):\n",
    "    return x * (1 - x)"
   ]
  },
  {
   "cell_type": "markdown",
   "metadata": {},
   "source": [
    "# One Perceptron, One Input & One Training Instance"
   ]
  },
  {
   "cell_type": "markdown",
   "metadata": {},
   "source": [
    "Just a single percceptron with a single input and a single training example."
   ]
  },
  {
   "cell_type": "code",
   "execution_count": 4,
   "metadata": {
    "collapsed": true
   },
   "outputs": [],
   "source": [
    "X = np.array([1])\n",
    "y = np.array([1])"
   ]
  },
  {
   "cell_type": "code",
   "execution_count": 5,
   "metadata": {
    "collapsed": true
   },
   "outputs": [],
   "source": [
    "weight = 2 * np.random.random((1,1)) - 1"
   ]
  },
  {
   "cell_type": "code",
   "execution_count": 6,
   "metadata": {
    "collapsed": false
   },
   "outputs": [
    {
     "name": "stdout",
     "output_type": "stream",
     "text": [
      "First Weight:  0.755362385006\n",
      "First Prediction:  0.680346011642\n"
     ]
    }
   ],
   "source": [
    "print(\"First Weight: \", weight[0][0])\n",
    "print(\"First Prediction: \", sigmoid(np.dot(X, weight))[0])\n",
    "\n",
    "for i in range(1000):\n",
    "    \n",
    "    # Get outputs (the prediction)\n",
    "    guess = sigmoid(np.dot(X, weight))\n",
    "    \n",
    "    # See how much it's off by...\n",
    "    error = y - guess\n",
    "    \n",
    "    # Get delta --> postitive OR negative (small change in weight(s)...)\n",
    "    delta = error * sigmoid_deriv(guess)\n",
    "    \n",
    "    # Update the weight\n",
    "    weight += np.dot(delta, X)"
   ]
  },
  {
   "cell_type": "code",
   "execution_count": 7,
   "metadata": {
    "collapsed": false,
    "scrolled": true
   },
   "outputs": [
    {
     "name": "stdout",
     "output_type": "stream",
     "text": [
      "Final Weight:  3.73433524206\n",
      "Final Prediction:  [ 0.97665619]\n"
     ]
    }
   ],
   "source": [
    "print(\"Final Weight: \", weight[0][0])\n",
    "print(\"Final Prediction: \", guess)"
   ]
  },
  {
   "cell_type": "markdown",
   "metadata": {},
   "source": [
    "# One Perceptron, 3 Inputs & One Training Instance"
   ]
  },
  {
   "cell_type": "markdown",
   "metadata": {},
   "source": [
    "![Single Perceptron](http://neuralnetworksanddeeplearning.com/images/tikz0.png)"
   ]
  },
  {
   "cell_type": "code",
   "execution_count": 8,
   "metadata": {
    "collapsed": true
   },
   "outputs": [],
   "source": [
    "X = np.array([[1,0,1]])\n",
    "y = np.array([1])"
   ]
  },
  {
   "cell_type": "code",
   "execution_count": 9,
   "metadata": {
    "collapsed": false
   },
   "outputs": [],
   "source": [
    "weights = 2 * np.random.random((3,1)) - 1"
   ]
  },
  {
   "cell_type": "code",
   "execution_count": 10,
   "metadata": {
    "collapsed": false
   },
   "outputs": [
    {
     "name": "stdout",
     "output_type": "stream",
     "text": [
      "First Weights: \n",
      " [[-0.44249234]\n",
      " [ 0.98845667]\n",
      " [ 0.29813805]]\n",
      "\n",
      "First Prediction: \n",
      " [[ 0.46397397]]\n"
     ]
    }
   ],
   "source": [
    "print(\"First Weights: \\n\", weights)\n",
    "print(\"\\nFirst Prediction: \\n\", sigmoid(np.dot(X, weights)))\n",
    "\n",
    "for i in range(1000):\n",
    "    \n",
    "    # Get outputs (the prediction)\n",
    "    guess = sigmoid(np.dot(X, weights))\n",
    "        \n",
    "    # See how much it's off by...\n",
    "    error = y - guess\n",
    "        \n",
    "    # Get delta --> postitive OR negative (small change in weight(s)...)\n",
    "    delta = error * sigmoid_deriv(guess)\n",
    "    \n",
    "    # Update the weights\n",
    "    weights += np.dot(X.T, delta)"
   ]
  },
  {
   "cell_type": "code",
   "execution_count": 11,
   "metadata": {
    "collapsed": false
   },
   "outputs": [
    {
     "name": "stdout",
     "output_type": "stream",
     "text": [
      "Final Weights: \n",
      " [[ 1.67888664]\n",
      " [ 0.98845667]\n",
      " [ 2.41951703]]\n",
      "Final Prediction: \n",
      " [[ 0.98366345]]\n"
     ]
    }
   ],
   "source": [
    "print(\"Final Weights: \\n\", weights)\n",
    "print(\"Final Prediction: \\n\", guess)"
   ]
  },
  {
   "cell_type": "markdown",
   "metadata": {},
   "source": [
    "<p><b><i><center>It doesn't change the middle weight at all because it's input is 0 and it has no effect anyway.</center></i></b></p>"
   ]
  },
  {
   "cell_type": "markdown",
   "metadata": {},
   "source": [
    "# One Perceptron, Three Weights & Four Instances"
   ]
  },
  {
   "cell_type": "markdown",
   "metadata": {},
   "source": [
    "![Derivitive of Sigmoid](https://cdn-images-1.medium.com/max/800/1*nEooKljI8XbKQh4cFbZu1Q.png)"
   ]
  },
  {
   "cell_type": "code",
   "execution_count": 12,
   "metadata": {
    "collapsed": true
   },
   "outputs": [],
   "source": [
    "X = np.array([[0,0,1], [1,1,1], [1,0,1], [0,1,1]])\n",
    "y = np.array([[0,1,1,0]]).T"
   ]
  },
  {
   "cell_type": "code",
   "execution_count": 13,
   "metadata": {
    "collapsed": true
   },
   "outputs": [],
   "source": [
    "weights = 2 * np.random.random(((3,1))) - 1"
   ]
  },
  {
   "cell_type": "markdown",
   "metadata": {},
   "source": [
    "## Train The Net"
   ]
  },
  {
   "cell_type": "code",
   "execution_count": 14,
   "metadata": {
    "collapsed": false
   },
   "outputs": [],
   "source": [
    "for _ in range(1000):\n",
    "    \n",
    "    # Make a guess for the instances\n",
    "    guesses = sigmoid(np.dot(X, weights))\n",
    "    \n",
    "    error = y - guesses\n",
    "    \n",
    "    delta = error * sigmoid_deriv(guesses)\n",
    "    \n",
    "    weights += np.dot(X.T, delta)"
   ]
  },
  {
   "cell_type": "code",
   "execution_count": 15,
   "metadata": {
    "collapsed": false
   },
   "outputs": [
    {
     "data": {
      "text/plain": [
       "array([[ 7.25986187],\n",
       "       [-0.22211738],\n",
       "       [-3.41197415]])"
      ]
     },
     "execution_count": 15,
     "metadata": {},
     "output_type": "execute_result"
    }
   ],
   "source": [
    "weights"
   ]
  },
  {
   "cell_type": "code",
   "execution_count": 16,
   "metadata": {
    "collapsed": false
   },
   "outputs": [
    {
     "data": {
      "text/plain": [
       "array([[ 0.03194033],\n",
       "       [ 0.97404837],\n",
       "       [ 0.97910961],\n",
       "       [ 0.025742  ]])"
      ]
     },
     "execution_count": 16,
     "metadata": {},
     "output_type": "execute_result"
    }
   ],
   "source": [
    "guesses"
   ]
  },
  {
   "cell_type": "markdown",
   "metadata": {},
   "source": [
    "![Rocky Success](http://cdn5.thr.com/sites/default/files/2015/11/rocky_pub01_-_h_2015.jpg)"
   ]
  },
  {
   "cell_type": "markdown",
   "metadata": {},
   "source": [
    "## What If We Change The Training Data?"
   ]
  },
  {
   "cell_type": "code",
   "execution_count": 17,
   "metadata": {
    "collapsed": true
   },
   "outputs": [],
   "source": [
    "# Change the training data to be an ??? relationship\n",
    "X = np.array([[0,0,1], [1,1,1], [1,0,1], [0,1,1]])\n",
    "y = np.array([[0,0,1,1]]).T"
   ]
  },
  {
   "cell_type": "code",
   "execution_count": 18,
   "metadata": {
    "collapsed": true
   },
   "outputs": [],
   "source": [
    "weights = 2 * np.random.random(((3,1))) - 1"
   ]
  },
  {
   "cell_type": "code",
   "execution_count": 19,
   "metadata": {
    "collapsed": false
   },
   "outputs": [],
   "source": [
    "for _ in range(1000):\n",
    "    \n",
    "    guesses = sigmoid(np.dot(X, weights))\n",
    "    \n",
    "    error = y - guesses\n",
    "    \n",
    "    delta = error * sigmoid_deriv(guesses)\n",
    "    \n",
    "    weights += np.dot(X.T, delta)"
   ]
  },
  {
   "cell_type": "code",
   "execution_count": 20,
   "metadata": {
    "collapsed": false
   },
   "outputs": [
    {
     "data": {
      "text/plain": [
       "array([[ -4.16333634e-16],\n",
       "       [ -4.30211422e-16],\n",
       "       [  5.41233725e-16]])"
      ]
     },
     "execution_count": 20,
     "metadata": {},
     "output_type": "execute_result"
    }
   ],
   "source": [
    "weights"
   ]
  },
  {
   "cell_type": "code",
   "execution_count": 21,
   "metadata": {
    "collapsed": false
   },
   "outputs": [
    {
     "data": {
      "text/plain": [
       "array([[ 0.5],\n",
       "       [ 0.5],\n",
       "       [ 0.5],\n",
       "       [ 0.5]])"
      ]
     },
     "execution_count": 21,
     "metadata": {},
     "output_type": "execute_result"
    }
   ],
   "source": [
    "guesses"
   ]
  },
  {
   "cell_type": "markdown",
   "metadata": {},
   "source": [
    "![Broken Brain](https://orig12.deviantart.net/4c1f/f/2008/349/c/a/brain_is_broken_by_frotu.jpg)"
   ]
  },
  {
   "cell_type": "markdown",
   "metadata": {},
   "source": [
    "<h1><center>Add A Hidden Layer To The Neural Net!</center></h1>"
   ]
  },
  {
   "cell_type": "markdown",
   "metadata": {},
   "source": [
    "![Image of Yaktocat](https://cdn-images-1.medium.com/max/800/1*Qt5lealRQ29-R8rcTPDtoA.png)"
   ]
  },
  {
   "cell_type": "markdown",
   "metadata": {},
   "source": [
    "# First With One Instance"
   ]
  },
  {
   "cell_type": "code",
   "execution_count": 22,
   "metadata": {
    "collapsed": false
   },
   "outputs": [
    {
     "data": {
      "text/plain": [
       "array([[0, 1, 1]])"
      ]
     },
     "execution_count": 22,
     "metadata": {},
     "output_type": "execute_result"
    }
   ],
   "source": [
    "X = np.array([[0,1,1]])\n",
    "y = np.array([1]).T\n",
    "X"
   ]
  },
  {
   "cell_type": "code",
   "execution_count": 23,
   "metadata": {
    "collapsed": false
   },
   "outputs": [],
   "source": [
    "# Inputs by Perceptrons\n",
    "weights1 = 2 * np.random.random((3,4)) - 1\n",
    "weights2 = 2 * np.random.random((4,1)) - 1"
   ]
  },
  {
   "cell_type": "code",
   "execution_count": 24,
   "metadata": {
    "collapsed": false
   },
   "outputs": [
    {
     "data": {
      "text/plain": [
       "array([[-0.62649681, -0.22127379, -0.91182886, -0.55851128],\n",
       "       [ 0.67441677,  0.83457105, -0.74037208, -0.3850311 ],\n",
       "       [ 0.24519566, -0.36643728,  0.43964514, -0.16255087]])"
      ]
     },
     "execution_count": 24,
     "metadata": {},
     "output_type": "execute_result"
    },
    {
     "data": {
      "text/plain": [
       "array([[-0.79858644],\n",
       "       [-0.20000916],\n",
       "       [ 0.93565978],\n",
       "       [-0.98527273]])"
      ]
     },
     "execution_count": 24,
     "metadata": {},
     "output_type": "execute_result"
    }
   ],
   "source": [
    "weights1\n",
    "weights2"
   ]
  },
  {
   "cell_type": "code",
   "execution_count": 25,
   "metadata": {
    "collapsed": false
   },
   "outputs": [],
   "source": [
    "for _ in range(1000):\n",
    "    \n",
    "    # ------------------------- Forward Propagation ---------------------------- #\n",
    "    # Get predictions for layer 1 & 2\n",
    "    layer1 = sigmoid(np.dot(X, weights1))\n",
    "    layer2 = sigmoid(np.dot(layer1, weights2))\n",
    "    \n",
    "    # -------------------------- Back Propagation ------------------------------ #\n",
    "    # Get errors from output (layer 2)\n",
    "    layer2_error = y - layer2\n",
    "    layer2_delta = layer2_error * sigmoid_deriv(layer2)\n",
    "    \n",
    "    # Get errors from layer1 (this part confuses me...)\n",
    "    layer1_error = np.dot(layer2_delta, weights2.T)\n",
    "    layer1_delta = layer1_error * sigmoid_deriv(layer1)\n",
    "\n",
    "    # How much do we need to update the weights?\n",
    "    weights1_update = np.dot(X.T, layer1_delta) \n",
    "    weights2_update = np.dot(layer1.T, layer2_delta)\n",
    "    \n",
    "    # Update the weights\n",
    "    weights1 += weights1_update\n",
    "    weights2 += weights2_update    "
   ]
  },
  {
   "cell_type": "code",
   "execution_count": 26,
   "metadata": {
    "collapsed": false
   },
   "outputs": [
    {
     "data": {
      "text/plain": [
       "array([[ 0.98469406]])"
      ]
     },
     "execution_count": 26,
     "metadata": {},
     "output_type": "execute_result"
    }
   ],
   "source": [
    "# Final Answer\n",
    "layer2"
   ]
  },
  {
   "cell_type": "markdown",
   "metadata": {},
   "source": [
    "# Now With Four Instances"
   ]
  },
  {
   "cell_type": "code",
   "execution_count": 27,
   "metadata": {
    "collapsed": false
   },
   "outputs": [
    {
     "data": {
      "text/plain": [
       "array([[0, 0, 1],\n",
       "       [1, 1, 1],\n",
       "       [0, 1, 1],\n",
       "       [1, 0, 1]])"
      ]
     },
     "execution_count": 27,
     "metadata": {},
     "output_type": "execute_result"
    }
   ],
   "source": [
    "X = np.array([[0,0,1], [1,1,1], [0,1,1], [1,0,1]])\n",
    "y = np.array([[0,0,1,1]]).T\n",
    "X"
   ]
  },
  {
   "cell_type": "code",
   "execution_count": 28,
   "metadata": {
    "collapsed": false
   },
   "outputs": [],
   "source": [
    "# Inputs by Perceptrons\n",
    "weights1 = 2 * np.random.random((3,4)) - 1\n",
    "weights2 = 2 * np.random.random((4,1)) - 1"
   ]
  },
  {
   "cell_type": "code",
   "execution_count": 29,
   "metadata": {
    "collapsed": false
   },
   "outputs": [
    {
     "data": {
      "text/plain": [
       "array([[ 0.24988307,  0.40120767,  0.3867602 ,  0.2562829 ],\n",
       "       [ 0.14106874, -0.47063763, -0.614184  ,  0.64200734],\n",
       "       [ 0.05946526, -0.21957399,  0.85599855, -0.18126844]])"
      ]
     },
     "execution_count": 29,
     "metadata": {},
     "output_type": "execute_result"
    },
    {
     "data": {
      "text/plain": [
       "array([[-0.24327279],\n",
       "       [-0.77783789],\n",
       "       [-0.60458831],\n",
       "       [-0.33863808]])"
      ]
     },
     "execution_count": 29,
     "metadata": {},
     "output_type": "execute_result"
    }
   ],
   "source": [
    "weights1\n",
    "weights2"
   ]
  },
  {
   "cell_type": "code",
   "execution_count": 30,
   "metadata": {
    "collapsed": false
   },
   "outputs": [],
   "source": [
    "for _ in range(50000):\n",
    "    \n",
    "    # ------------------------- Forward Propagation ---------------------------- #\n",
    "    # Get predictions for layer 1 & 2\n",
    "    layer1 = sigmoid(np.dot(X, weights1))\n",
    "    layer2 = sigmoid(np.dot(layer1, weights2))\n",
    "    \n",
    "    # -------------------------- Back Propagation ------------------------------ #\n",
    "    # Get errors from output (layer 2)\n",
    "    layer2_error = y - layer2\n",
    "    layer2_delta = layer2_error * sigmoid_deriv(layer2)\n",
    "    \n",
    "    # Get errors from layer1 (this part confuses me...)\n",
    "    layer1_error = np.dot(layer2_delta, weights2.T)\n",
    "    layer1_delta = layer1_error * sigmoid_deriv(layer1)\n",
    "\n",
    "    # How much do we need to update the weights?\n",
    "    weights1_update = np.dot(X.T, layer1_delta) \n",
    "    weights2_update = np.dot(layer1.T, layer2_delta)\n",
    "    \n",
    "    # Update the weights\n",
    "    weights1 += weights1_update\n",
    "    weights2 += weights2_update   "
   ]
  },
  {
   "cell_type": "code",
   "execution_count": 31,
   "metadata": {
    "collapsed": false,
    "scrolled": true
   },
   "outputs": [
    {
     "data": {
      "text/plain": [
       "array([[ 0.00212817],\n",
       "       [ 0.0054112 ],\n",
       "       [ 0.99471908],\n",
       "       [ 0.996359  ]])"
      ]
     },
     "execution_count": 31,
     "metadata": {},
     "output_type": "execute_result"
    }
   ],
   "source": [
    "layer2"
   ]
  },
  {
   "cell_type": "markdown",
   "metadata": {},
   "source": [
    "![Joke](https://i.redd.it/5193db0avbey.jpg)"
   ]
  },
  {
   "cell_type": "markdown",
   "metadata": {},
   "source": [
    "# Video Showing Original Example"
   ]
  },
  {
   "cell_type": "markdown",
   "metadata": {},
   "source": [
    "# One Perceptron, One Input & One Training Instance"
   ]
  },
  {
   "cell_type": "markdown",
   "metadata": {},
   "source": [
    "Just a single percceptron with a single input and a single training example."
   ]
  },
  {
   "cell_type": "code",
   "execution_count": 158,
   "metadata": {
    "collapsed": true
   },
   "outputs": [],
   "source": [
    "X = np.array([1])\n",
    "y = np.array([1])"
   ]
  },
  {
   "cell_type": "code",
   "execution_count": 159,
   "metadata": {
    "collapsed": true
   },
   "outputs": [],
   "source": [
    "weight = 2 * np.random.random((1,1)) - 1"
   ]
  },
  {
   "cell_type": "code",
   "execution_count": 160,
   "metadata": {
    "collapsed": false
   },
   "outputs": [
    {
     "name": "stdout",
     "output_type": "stream",
     "text": [
      "First Weight:  -0.75165336976\n",
      "First Prediction:  0.320461146608\n"
     ]
    }
   ],
   "source": [
    "print(\"First Weight: \", weight[0][0])\n",
    "print(\"First Prediction: \", sigmoid(np.dot(X, weight))[0])\n",
    "\n",
    "for i in range(1000):\n",
    "    \n",
    "    # Get outputs (the prediction)\n",
    "    guess = sigmoid(np.dot(X, weight))\n",
    "    \n",
    "    # See how much it's off by...\n",
    "    error = y - guess\n",
    "    \n",
    "    # Get delta --> postitive OR negative (small change in weight(s)...)\n",
    "    delta = error * sigmoid_deriv(guess)\n",
    "    \n",
    "    # Update the weight\n",
    "    weight += np.dot(delta, X)"
   ]
  },
  {
   "cell_type": "code",
   "execution_count": 161,
   "metadata": {
    "collapsed": false,
    "scrolled": true
   },
   "outputs": [
    {
     "name": "stdout",
     "output_type": "stream",
     "text": [
      "Final Weight:  3.72741631964\n",
      "Final Prediction:  [ 0.97649777]\n"
     ]
    }
   ],
   "source": [
    "print(\"Final Weight: \", weight[0][0])\n",
    "print(\"Final Prediction: \", guess)"
   ]
  },
  {
   "cell_type": "code",
   "execution_count": null,
   "metadata": {
    "collapsed": true
   },
   "outputs": [],
   "source": []
  }
 ],
 "metadata": {
  "anaconda-cloud": {},
  "kernelspec": {
   "display_name": "Python [conda root]",
   "language": "python",
   "name": "conda-root-py"
  },
  "language_info": {
   "codemirror_mode": {
    "name": "ipython",
    "version": 3
   },
   "file_extension": ".py",
   "mimetype": "text/x-python",
   "name": "python",
   "nbconvert_exporter": "python",
   "pygments_lexer": "ipython3",
   "version": "3.5.2"
  }
 },
 "nbformat": 4,
 "nbformat_minor": 1
}
