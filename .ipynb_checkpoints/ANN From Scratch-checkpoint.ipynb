{
 "cells": [
  {
   "cell_type": "markdown",
   "metadata": {},
   "source": [
    "#  Code Neural Network From Scratch"
   ]
  },
  {
   "cell_type": "code",
   "execution_count": 1,
   "metadata": {
    "collapsed": true
   },
   "outputs": [],
   "source": [
    "# Only dependancy will be Numpy\n",
    "import numpy as np\n",
    "# Just for displaying images\n",
    "from IPython.core.display import Image\n",
    "\n",
    "# For displaying multiple variables in one cell\n",
    "from IPython.core.interactiveshell import InteractiveShell\n",
    "InteractiveShell.ast_node_interactivity = \"all\""
   ]
  },
  {
   "cell_type": "markdown",
   "metadata": {},
   "source": [
    "![Image of Neural Net](https://s3-ap-south-1.amazonaws.com/av-blog-media/wp-content/uploads/2017/05/29021937/635965173527052708-540999202_wallpaper-2870969.jpg)"
   ]
  },
  {
   "cell_type": "markdown",
   "metadata": {},
   "source": [
    "## First Define the Activation Function"
   ]
  },
  {
   "cell_type": "markdown",
   "metadata": {},
   "source": [
    "### Activation Function --> Sigmoid"
   ]
  },
  {
   "cell_type": "markdown",
   "metadata": {},
   "source": [
    "![Image of Yaktocat](https://cdn-images-1.medium.com/max/1200/1*sK6hjHszCwTE8GqtKNe1Yg.png)"
   ]
  },
  {
   "cell_type": "markdown",
   "metadata": {},
   "source": [
    "<h1><center>$ { f(x)=\\frac{1}{1+e^{-x}} } $</center></h1>"
   ]
  },
  {
   "cell_type": "code",
   "execution_count": 2,
   "metadata": {
    "collapsed": true
   },
   "outputs": [],
   "source": [
    "def sigmoid(x):\n",
    "    return 1 / (1 + np.exp(-x))"
   ]
  },
  {
   "cell_type": "markdown",
   "metadata": {},
   "source": [
    "![Derivitive of Sigmoid](https://i2.wp.com/kawahara.ca/wp-content/uploads/derivative_sigmoid.png?fit=430%2C339&ssl=1)"
   ]
  },
  {
   "cell_type": "markdown",
   "metadata": {},
   "source": [
    "<h1><center>$ { f'(x)= f(x) (1 - f(x)) } $</center></h1>"
   ]
  },
  {
   "cell_type": "code",
   "execution_count": 3,
   "metadata": {
    "collapsed": true
   },
   "outputs": [],
   "source": [
    "def sigmoid_deriv(x):\n",
    "    return x * (1 - x)"
   ]
  },
  {
   "cell_type": "markdown",
   "metadata": {},
   "source": [
    "# One Perceptron, One Input & One Training Instance"
   ]
  },
  {
   "cell_type": "markdown",
   "metadata": {},
   "source": [
    "Just a single percceptron with a single input and a single training example."
   ]
  },
  {
   "cell_type": "code",
   "execution_count": 4,
   "metadata": {
    "collapsed": true
   },
   "outputs": [],
   "source": [
    "X = np.array([1])\n",
    "y = np.array([1])"
   ]
  },
  {
   "cell_type": "code",
   "execution_count": 5,
   "metadata": {
    "collapsed": true
   },
   "outputs": [],
   "source": [
    "weight = 2 * np.random.random((1,1)) - 1"
   ]
  },
  {
   "cell_type": "code",
   "execution_count": 6,
   "metadata": {
    "collapsed": false
   },
   "outputs": [
    {
     "name": "stdout",
     "output_type": "stream",
     "text": [
      "First Weight:  -0.703050484749\n",
      "First Prediction:  0.331136243434\n"
     ]
    }
   ],
   "source": [
    "print(\"First Weight: \", weight[0][0])\n",
    "print(\"First Prediction: \", sigmoid(np.dot(X, weight))[0])\n",
    "\n",
    "for i in range(1000):\n",
    "    \n",
    "    # Get outputs (the prediction)\n",
    "    guess = sigmoid(np.dot(X, weight))\n",
    "    \n",
    "    # See how much it's off by...\n",
    "    error = y - guess\n",
    "    \n",
    "    # Get delta --> postitive OR negative (small change in weight(s)...)\n",
    "    delta = error * sigmoid_deriv(guess)\n",
    "    \n",
    "    # Update the weight\n",
    "    weight += np.dot(delta, X)"
   ]
  },
  {
   "cell_type": "code",
   "execution_count": 7,
   "metadata": {
    "collapsed": false,
    "scrolled": true
   },
   "outputs": [
    {
     "name": "stdout",
     "output_type": "stream",
     "text": [
      "Final Weight:  3.72759373811\n",
      "Final Prediction:  [ 0.97650184]\n"
     ]
    }
   ],
   "source": [
    "print(\"Final Weight: \", weight[0][0])\n",
    "print(\"Final Prediction: \", guess)"
   ]
  },
  {
   "cell_type": "markdown",
   "metadata": {},
   "source": [
    "# One Perceptron, 3 Inputs & One Training Instance"
   ]
  },
  {
   "cell_type": "markdown",
   "metadata": {},
   "source": [
    "![Single Perceptron](http://neuralnetworksanddeeplearning.com/images/tikz0.png)"
   ]
  },
  {
   "cell_type": "code",
   "execution_count": 8,
   "metadata": {
    "collapsed": true
   },
   "outputs": [],
   "source": [
    "X = np.array([[1,0,1]])\n",
    "y = np.array([1])"
   ]
  },
  {
   "cell_type": "code",
   "execution_count": 9,
   "metadata": {
    "collapsed": false
   },
   "outputs": [],
   "source": [
    "weights = 2 * np.random.random((3,1)) - 1"
   ]
  },
  {
   "cell_type": "code",
   "execution_count": 10,
   "metadata": {
    "collapsed": false
   },
   "outputs": [
    {
     "name": "stdout",
     "output_type": "stream",
     "text": [
      "First Weights: \n",
      " [[-0.16264296]\n",
      " [-0.45480901]\n",
      " [ 0.19386329]]\n",
      "\n",
      "First Prediction: \n",
      " [[ 0.50780445]]\n"
     ]
    }
   ],
   "source": [
    "print(\"First Weights: \\n\", weights)\n",
    "print(\"\\nFirst Prediction: \\n\", sigmoid(np.dot(X, weights)))\n",
    "\n",
    "for i in range(1000):\n",
    "    \n",
    "    # Get outputs (the prediction)\n",
    "    guess = sigmoid(np.dot(X, weights))\n",
    "        \n",
    "    # See how much it's off by...\n",
    "    error = y - guess\n",
    "        \n",
    "    # Get delta --> postitive OR negative (small change in weight(s)...)\n",
    "    delta = error * sigmoid_deriv(guess)\n",
    "    \n",
    "    # Update the weights\n",
    "    weights += np.dot(X.T, delta)"
   ]
  },
  {
   "cell_type": "code",
   "execution_count": 11,
   "metadata": {
    "collapsed": false
   },
   "outputs": [
    {
     "name": "stdout",
     "output_type": "stream",
     "text": [
      "Final Weights: \n",
      " [[ 1.87111807]\n",
      " [-0.45480901]\n",
      " [ 2.22762432]]\n",
      "Final Prediction: \n",
      " [[ 0.98366889]]\n"
     ]
    }
   ],
   "source": [
    "print(\"Final Weights: \\n\", weights)\n",
    "print(\"Final Prediction: \\n\", guess)"
   ]
  },
  {
   "cell_type": "markdown",
   "metadata": {},
   "source": [
    "<p><b><i><center>It doesn't change the middle weight at all because it's input is 0 and it has no effect anyway.</center></i></b></p>"
   ]
  },
  {
   "cell_type": "markdown",
   "metadata": {},
   "source": [
    "# One Perceptron, Three Weights & Four Instances"
   ]
  },
  {
   "cell_type": "markdown",
   "metadata": {},
   "source": [
    "![Derivitive of Sigmoid](https://cdn-images-1.medium.com/max/800/1*nEooKljI8XbKQh4cFbZu1Q.png)"
   ]
  },
  {
   "cell_type": "code",
   "execution_count": 12,
   "metadata": {
    "collapsed": true
   },
   "outputs": [],
   "source": [
    "X = np.array([[0,0,1], [1,1,1], [1,0,1], [0,1,1]])\n",
    "y = np.array([[0,1,1,0]]).T"
   ]
  },
  {
   "cell_type": "code",
   "execution_count": 13,
   "metadata": {
    "collapsed": true
   },
   "outputs": [],
   "source": [
    "weights = 2 * np.random.random(((3,1))) - 1"
   ]
  },
  {
   "cell_type": "markdown",
   "metadata": {},
   "source": [
    "## Train The Net"
   ]
  },
  {
   "cell_type": "code",
   "execution_count": 17,
   "metadata": {
    "collapsed": false
   },
   "outputs": [],
   "source": [
    "for _ in range(1000):\n",
    "    \n",
    "    # Make a guess for the instances\n",
    "    guesses = sigmoid(np.dot(X, weights))\n",
    "    \n",
    "    error = y - guesses\n",
    "    \n",
    "    delta = error * sigmoid_deriv(guesses)\n",
    "    \n",
    "    weights += np.dot(X.T, delta)"
   ]
  },
  {
   "cell_type": "code",
   "execution_count": 18,
   "metadata": {
    "collapsed": false
   },
   "outputs": [
    {
     "data": {
      "text/plain": [
       "array([[ 10.82539359],\n",
       "       [ -0.20570913],\n",
       "       [ -5.20758421]])"
      ]
     },
     "execution_count": 18,
     "metadata": {},
     "output_type": "execute_result"
    }
   ],
   "source": [
    "weights"
   ]
  },
  {
   "cell_type": "code",
   "execution_count": 19,
   "metadata": {
    "collapsed": false
   },
   "outputs": [
    {
     "data": {
      "text/plain": [
       "array([[ 0.00544516],\n",
       "       [ 0.99555749],\n",
       "       [ 0.9963805 ],\n",
       "       [ 0.00443723]])"
      ]
     },
     "execution_count": 19,
     "metadata": {},
     "output_type": "execute_result"
    }
   ],
   "source": [
    "guesses"
   ]
  },
  {
   "cell_type": "markdown",
   "metadata": {},
   "source": [
    "![Rocky Success](http://cdn5.thr.com/sites/default/files/2015/11/rocky_pub01_-_h_2015.jpg)"
   ]
  },
  {
   "cell_type": "markdown",
   "metadata": {},
   "source": [
    "## What If We Change The Training Data?"
   ]
  },
  {
   "cell_type": "code",
   "execution_count": 20,
   "metadata": {
    "collapsed": true
   },
   "outputs": [],
   "source": [
    "# Change the training data to be an ??? relationship\n",
    "X = np.array([[0,0,1], [1,1,1], [1,0,1], [0,1,1]])\n",
    "y = np.array([[0,0,1,1]]).T"
   ]
  },
  {
   "cell_type": "code",
   "execution_count": 21,
   "metadata": {
    "collapsed": true
   },
   "outputs": [],
   "source": [
    "weights = 2 * np.random.random(((3,1))) - 1"
   ]
  },
  {
   "cell_type": "code",
   "execution_count": 262,
   "metadata": {
    "collapsed": false
   },
   "outputs": [],
   "source": [
    "for _ in range(1000):\n",
    "    \n",
    "    guesses = sigmoid(np.dot(X, weights))\n",
    "    \n",
    "    error = y - guesses\n",
    "    \n",
    "    delta = error * sigmoid_deriv(guesses)\n",
    "    \n",
    "    weights += np.dot(X.T, delta)"
   ]
  },
  {
   "cell_type": "code",
   "execution_count": 263,
   "metadata": {
    "collapsed": false
   },
   "outputs": [
    {
     "data": {
      "text/plain": [
       "array([[ -4.44089210e-16],\n",
       "       [ -4.44089210e-16],\n",
       "       [  5.68989300e-16]])"
      ]
     },
     "execution_count": 263,
     "metadata": {},
     "output_type": "execute_result"
    }
   ],
   "source": [
    "weights"
   ]
  },
  {
   "cell_type": "code",
   "execution_count": 265,
   "metadata": {
    "collapsed": false
   },
   "outputs": [
    {
     "data": {
      "text/plain": [
       "array([[ 0.5],\n",
       "       [ 0.5],\n",
       "       [ 0.5],\n",
       "       [ 0.5]])"
      ]
     },
     "execution_count": 265,
     "metadata": {},
     "output_type": "execute_result"
    }
   ],
   "source": [
    "guesses"
   ]
  },
  {
   "cell_type": "markdown",
   "metadata": {},
   "source": [
    "![Broken Brain](https://orig12.deviantart.net/4c1f/f/2008/349/c/a/brain_is_broken_by_frotu.jpg)"
   ]
  },
  {
   "cell_type": "markdown",
   "metadata": {},
   "source": [
    "<h1><center>Add A Hidden Layer To The Neural Net!</center></h1>"
   ]
  },
  {
   "cell_type": "markdown",
   "metadata": {},
   "source": [
    "![Image of Yaktocat](https://cdn-images-1.medium.com/max/800/1*Qt5lealRQ29-R8rcTPDtoA.png)"
   ]
  },
  {
   "cell_type": "markdown",
   "metadata": {},
   "source": [
    "# First With One Instance"
   ]
  },
  {
   "cell_type": "code",
   "execution_count": 107,
   "metadata": {
    "collapsed": false
   },
   "outputs": [
    {
     "data": {
      "text/plain": [
       "array([[0, 1, 1]])"
      ]
     },
     "execution_count": 107,
     "metadata": {},
     "output_type": "execute_result"
    }
   ],
   "source": [
    "X = np.array([[0,1,1]])\n",
    "y = np.array([1]).T\n",
    "X"
   ]
  },
  {
   "cell_type": "code",
   "execution_count": 108,
   "metadata": {
    "collapsed": false
   },
   "outputs": [],
   "source": [
    "# Inputs by Perceptrons\n",
    "weights1 = 2 * np.random.random((3,4)) - 1\n",
    "weights2 = 2 * np.random.random((4,1)) - 1"
   ]
  },
  {
   "cell_type": "code",
   "execution_count": 109,
   "metadata": {
    "collapsed": false
   },
   "outputs": [
    {
     "data": {
      "text/plain": [
       "array([[-0.42444932, -0.73994286, -0.96126608,  0.35767107],\n",
       "       [-0.57674377, -0.46890668, -0.01685368, -0.89327491],\n",
       "       [ 0.14823521, -0.70654285,  0.17861107,  0.39951672]])"
      ]
     },
     "execution_count": 109,
     "metadata": {},
     "output_type": "execute_result"
    },
    {
     "data": {
      "text/plain": [
       "array([[-0.79533114],\n",
       "       [-0.17188802],\n",
       "       [ 0.38880032],\n",
       "       [-0.17164146]])"
      ]
     },
     "execution_count": 109,
     "metadata": {},
     "output_type": "execute_result"
    }
   ],
   "source": [
    "weights1\n",
    "weights2"
   ]
  },
  {
   "cell_type": "code",
   "execution_count": 110,
   "metadata": {
    "collapsed": false
   },
   "outputs": [],
   "source": [
    "for _ in range(1000):\n",
    "    \n",
    "    # ------------------------- Forward Propagation ---------------------------- #\n",
    "    # Get predictions for layer 1 & 2\n",
    "    layer1 = sigmoid(np.dot(X, weights1))\n",
    "    layer2 = sigmoid(np.dot(layer1, weights2))\n",
    "    \n",
    "    # -------------------------- Back Propagation ------------------------------ #\n",
    "    # Get errors from output (layer 2)\n",
    "    layer2_error = y - layer2\n",
    "    layer2_delta = layer2_error * sigmoid_deriv(layer2)\n",
    "    \n",
    "    # Get errors from layer1 (this part confuses me...)\n",
    "    layer1_error = np.dot(layer2_delta, weights2.T)\n",
    "    layer1_delta = layer1_error * sigmoid_deriv(layer1)\n",
    "\n",
    "    # How much do we need to update the weights?\n",
    "    weights1_update = np.dot(X.T, layer1_delta) \n",
    "    weights2_update = np.dot(layer1.T, layer2_delta)\n",
    "    \n",
    "    # Update the weights\n",
    "    weights1 += weights1_update\n",
    "    weights2 += weights2_update    "
   ]
  },
  {
   "cell_type": "code",
   "execution_count": 111,
   "metadata": {
    "collapsed": false
   },
   "outputs": [
    {
     "data": {
      "text/plain": [
       "array([[ 0.98216082]])"
      ]
     },
     "execution_count": 111,
     "metadata": {},
     "output_type": "execute_result"
    }
   ],
   "source": [
    "# Final Answer\n",
    "layer2"
   ]
  },
  {
   "cell_type": "markdown",
   "metadata": {},
   "source": [
    "# Now With Four Instances"
   ]
  },
  {
   "cell_type": "code",
   "execution_count": 112,
   "metadata": {
    "collapsed": false
   },
   "outputs": [
    {
     "data": {
      "text/plain": [
       "array([[0, 0, 1],\n",
       "       [1, 1, 1],\n",
       "       [0, 1, 1],\n",
       "       [1, 0, 1]])"
      ]
     },
     "execution_count": 112,
     "metadata": {},
     "output_type": "execute_result"
    }
   ],
   "source": [
    "X = np.array([[0,0,1], [1,1,1], [0,1,1], [1,0,1]])\n",
    "y = np.array([[0,0,1,1]]).T\n",
    "X"
   ]
  },
  {
   "cell_type": "code",
   "execution_count": 113,
   "metadata": {
    "collapsed": false
   },
   "outputs": [],
   "source": [
    "# Inputs by Perceptrons\n",
    "weights1 = 2 * np.random.random((3,4)) - 1\n",
    "weights2 = 2 * np.random.random((4,1)) - 1"
   ]
  },
  {
   "cell_type": "code",
   "execution_count": 114,
   "metadata": {
    "collapsed": false
   },
   "outputs": [
    {
     "data": {
      "text/plain": [
       "array([[-0.90009308,  0.07179281,  0.32758929,  0.02977822],\n",
       "       [ 0.88918951,  0.17311008,  0.80680383, -0.72505059],\n",
       "       [-0.72144731,  0.61478258, -0.20464633, -0.66929161]])"
      ]
     },
     "execution_count": 114,
     "metadata": {},
     "output_type": "execute_result"
    },
    {
     "data": {
      "text/plain": [
       "array([[ 0.85501716],\n",
       "       [-0.30446828],\n",
       "       [ 0.50162421],\n",
       "       [ 0.45199597]])"
      ]
     },
     "execution_count": 114,
     "metadata": {},
     "output_type": "execute_result"
    }
   ],
   "source": [
    "weights1\n",
    "weights2"
   ]
  },
  {
   "cell_type": "code",
   "execution_count": 121,
   "metadata": {
    "collapsed": false
   },
   "outputs": [],
   "source": [
    "for _ in range(50000):\n",
    "    \n",
    "    # ------------------------- Forward Propagation ---------------------------- #\n",
    "    # Get predictions for layer 1 & 2\n",
    "    layer1 = sigmoid(np.dot(X, weights1))\n",
    "    layer2 = sigmoid(np.dot(layer1, weights2))\n",
    "    \n",
    "    # -------------------------- Back Propagation ------------------------------ #\n",
    "    # Get errors from output (layer 2)\n",
    "    layer2_error = y - layer2\n",
    "    layer2_delta = layer2_error * sigmoid_deriv(layer2)\n",
    "    \n",
    "    # Get errors from layer1 (this part confuses me...)\n",
    "    layer1_error = np.dot(layer2_delta, weights2.T)\n",
    "    layer1_delta = layer1_error * sigmoid_deriv(layer1)\n",
    "\n",
    "    # How much do we need to update the weights?\n",
    "    weights1_update = np.dot(X.T, layer1_delta) \n",
    "    weights2_update = np.dot(layer1.T, layer2_delta)\n",
    "    \n",
    "    # Update the weights\n",
    "    weights1 += weights1_update\n",
    "    weights2 += weights2_update   "
   ]
  },
  {
   "cell_type": "code",
   "execution_count": 122,
   "metadata": {
    "collapsed": false,
    "scrolled": true
   },
   "outputs": [
    {
     "data": {
      "text/plain": [
       "array([[ 0.00225664],\n",
       "       [ 0.00230614],\n",
       "       [ 0.9974763 ],\n",
       "       [ 0.99811729]])"
      ]
     },
     "execution_count": 122,
     "metadata": {},
     "output_type": "execute_result"
    }
   ],
   "source": [
    "layer2"
   ]
  },
  {
   "cell_type": "markdown",
   "metadata": {},
   "source": [
    "![Joke](https://i.redd.it/5193db0avbey.jpg)"
   ]
  },
  {
   "cell_type": "markdown",
   "metadata": {},
   "source": [
    "# Video Showing Original Example"
   ]
  },
  {
   "cell_type": "markdown",
   "metadata": {},
   "source": [
    "# One Perceptron, One Input & One Training Instance"
   ]
  },
  {
   "cell_type": "markdown",
   "metadata": {},
   "source": [
    "Just a single percceptron with a single input and a single training example."
   ]
  },
  {
   "cell_type": "code",
   "execution_count": 158,
   "metadata": {
    "collapsed": true
   },
   "outputs": [],
   "source": [
    "X = np.array([1])\n",
    "y = np.array([1])"
   ]
  },
  {
   "cell_type": "code",
   "execution_count": 159,
   "metadata": {
    "collapsed": true
   },
   "outputs": [],
   "source": [
    "weight = 2 * np.random.random((1,1)) - 1"
   ]
  },
  {
   "cell_type": "code",
   "execution_count": 160,
   "metadata": {
    "collapsed": false
   },
   "outputs": [
    {
     "name": "stdout",
     "output_type": "stream",
     "text": [
      "First Weight:  -0.75165336976\n",
      "First Prediction:  0.320461146608\n"
     ]
    }
   ],
   "source": [
    "print(\"First Weight: \", weight[0][0])\n",
    "print(\"First Prediction: \", sigmoid(np.dot(X, weight))[0])\n",
    "\n",
    "for i in range(1000):\n",
    "    \n",
    "    # Get outputs (the prediction)\n",
    "    guess = sigmoid(np.dot(X, weight))\n",
    "    \n",
    "    # See how much it's off by...\n",
    "    error = y - guess\n",
    "    \n",
    "    # Get delta --> postitive OR negative (small change in weight(s)...)\n",
    "    delta = error * sigmoid_deriv(guess)\n",
    "    \n",
    "    # Update the weight\n",
    "    weight += np.dot(delta, X)"
   ]
  },
  {
   "cell_type": "code",
   "execution_count": 161,
   "metadata": {
    "collapsed": false,
    "scrolled": true
   },
   "outputs": [
    {
     "name": "stdout",
     "output_type": "stream",
     "text": [
      "Final Weight:  3.72741631964\n",
      "Final Prediction:  [ 0.97649777]\n"
     ]
    }
   ],
   "source": [
    "print(\"Final Weight: \", weight[0][0])\n",
    "print(\"Final Prediction: \", guess)"
   ]
  },
  {
   "cell_type": "code",
   "execution_count": null,
   "metadata": {
    "collapsed": true
   },
   "outputs": [],
   "source": []
  }
 ],
 "metadata": {
  "anaconda-cloud": {},
  "kernelspec": {
   "display_name": "Python [conda root]",
   "language": "python",
   "name": "conda-root-py"
  },
  "language_info": {
   "codemirror_mode": {
    "name": "ipython",
    "version": 3
   },
   "file_extension": ".py",
   "mimetype": "text/x-python",
   "name": "python",
   "nbconvert_exporter": "python",
   "pygments_lexer": "ipython3",
   "version": "3.5.2"
  }
 },
 "nbformat": 4,
 "nbformat_minor": 1
}
